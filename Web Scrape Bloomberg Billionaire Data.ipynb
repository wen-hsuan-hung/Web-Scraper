{
 "cells": [
  {
   "cell_type": "code",
   "execution_count": 52,
   "id": "23708a3c",
   "metadata": {},
   "outputs": [],
   "source": [
    "from selenium.webdriver.common.keys import Keys\n",
    "from selenium.webdriver.common.action_chains import ActionChains\n",
    "from selenium import webdriver\n",
    "from selenium.webdriver.common.by import By\n",
    "from selenium.webdriver.support.wait import WebDriverWait\n",
    "from selenium.webdriver.support import expected_conditions as EC\n",
    "import warnings\n",
    "import time\n",
    "warnings.filterwarnings('ignore')\n",
    "from bs4 import BeautifulSoup\n",
    "import pandas as pd\n",
    "import re"
   ]
  },
  {
   "cell_type": "code",
   "execution_count": 2,
   "id": "a9a83ce3",
   "metadata": {},
   "outputs": [],
   "source": [
    "driver = webdriver.Chrome('C:/Users/wenhsuan/Downloads/chromedriver-win64/chromedriver.exe')"
   ]
  },
  {
   "cell_type": "code",
   "execution_count": 3,
   "id": "26eb1bc5",
   "metadata": {},
   "outputs": [],
   "source": [
    "url = 'https://www.bloomberg.com/billionaires/'\n",
    "driver.get(url)"
   ]
  },
  {
   "cell_type": "code",
   "execution_count": 16,
   "id": "e53f072b",
   "metadata": {},
   "outputs": [],
   "source": [
    "soup = BeautifulSoup(driver.page_source,'html5lib')"
   ]
  },
  {
   "cell_type": "code",
   "execution_count": 112,
   "id": "1c10b040",
   "metadata": {},
   "outputs": [],
   "source": [
    "data = [value.text.strip().split('\\n') for value in soup.find_all('div', class_ = 'table-row')]"
   ]
  },
  {
   "cell_type": "code",
   "execution_count": 113,
   "id": "6d8c0be9",
   "metadata": {},
   "outputs": [],
   "source": [
    "df = pd.DataFrame(data)"
   ]
  },
  {
   "cell_type": "code",
   "execution_count": 114,
   "id": "97480842",
   "metadata": {},
   "outputs": [],
   "source": [
    "df = df.drop([1, 2, 4, 6, 7, 9, 10, 11, 13, 14, 15, 17, 18], axis=1)"
   ]
  },
  {
   "cell_type": "code",
   "execution_count": 115,
   "id": "be48fed2",
   "metadata": {},
   "outputs": [],
   "source": [
    "df.columns=['Rank', 'Name','Net Worth', 'Last_change', 'YTD_change', 'Country', 'Industry']"
   ]
  },
  {
   "cell_type": "code",
   "execution_count": 118,
   "id": "16ef24b1",
   "metadata": {},
   "outputs": [],
   "source": [
    "df.to_csv(\"Billionaires_data.csv\", index = False)"
   ]
  },
  {
   "cell_type": "code",
   "execution_count": null,
   "id": "9378ff79",
   "metadata": {},
   "outputs": [],
   "source": []
  },
  {
   "cell_type": "code",
   "execution_count": null,
   "id": "14078827",
   "metadata": {},
   "outputs": [],
   "source": []
  }
 ],
 "metadata": {
  "kernelspec": {
   "display_name": "Python 3 (ipykernel)",
   "language": "python",
   "name": "python3"
  },
  "language_info": {
   "codemirror_mode": {
    "name": "ipython",
    "version": 3
   },
   "file_extension": ".py",
   "mimetype": "text/x-python",
   "name": "python",
   "nbconvert_exporter": "python",
   "pygments_lexer": "ipython3",
   "version": "3.9.13"
  }
 },
 "nbformat": 4,
 "nbformat_minor": 5
}
